{
 "cells": [
  {
   "cell_type": "code",
   "execution_count": null,
   "id": "5c8401fd-dd7b-4419-8bb7-a6be0e6ee625",
   "metadata": {},
   "outputs": [],
   "source": [
    "!pip install omegaconf, einops, pytorch_lightning"
   ]
  },
  {
   "cell_type": "code",
   "execution_count": 1,
   "id": "7837c3cf-ea86-4117-8537-7b3c61dd03f9",
   "metadata": {},
   "outputs": [
    {
     "name": "stderr",
     "output_type": "stream",
     "text": [
      "C:\\Users\\gfran\\anaconda3\\envs\\trch\\lib\\site-packages\\tqdm\\auto.py:21: TqdmWarning: IProgress not found. Please update jupyter and ipywidgets. See https://ipywidgets.readthedocs.io/en/stable/user_install.html\n",
      "  from .autonotebook import tqdm as notebook_tqdm\n"
     ]
    }
   ],
   "source": [
    "from omegaconf import OmegaConf\n",
    "from ldm.util import instantiate_from_config\n",
    "import torch\n",
    "from safetensors import safe_open\n",
    "from einops import rearrange"
   ]
  },
  {
   "cell_type": "code",
   "execution_count": 5,
   "id": "985d67cf-1c03-42e9-b020-1af0e88241ac",
   "metadata": {},
   "outputs": [],
   "source": [
    "def load_model_from_config(config, sd):\n",
    "    model = instantiate_from_config(config)\n",
    "    model.load_state_dict(sd,strict=False)\n",
    "    model.cuda()\n",
    "    model.eval()\n",
    "    return model\n",
    "\n",
    "def load_safetensors(config_file='configs/autoencoder/ae_only.yaml', ckpt='../stable-diffusion-models/vae/diffusion_pytorch_model.safetensors'):\n",
    "    config = OmegaConf.load(config_file)\n",
    "    tensors = {}\n",
    "    with safe_open(ckpt, framework=\"pt\", device=0) as f:\n",
    "        for k in f.keys():\n",
    "            tensors[k] = f.get_tensor(k)\n",
    "    model = load_model_from_config(config.model, tensors)\n",
    "    return model\n",
    "\n",
    "def load_model(config_file='configs/autoencoder/ae_only.yaml', ckpt='../stable-diffusion-models/vae/diffusion_pytorch_model.safetensors'):\n",
    "    config = OmegaConf.load(config_file)\n",
    "    if ckpt:\n",
    "        print(f\"Loading model from {ckpt}\")\n",
    "        pl_sd = torch.load(ckpt, map_location=\"cpu\")\n",
    "        print(type(pl_sd))\n",
    "    else:\n",
    "        pl_sd = {\"state_dict\": None}\n",
    "    model = load_model_from_config(config.model, pl_sd)\n",
    "\n",
    "    return model\n",
    "\n",
    "def get_input(batch):\n",
    "        x = batch\n",
    "        if len(x.shape) == 3:\n",
    "            x = x[..., None]\n",
    "        x = rearrange(x, 'b h w c -> b c h w')\n",
    "        x = x.cuda()\n",
    "        return x\n",
    "\n",
    "# load config file 'configs/autoencoder/ae_only.yaml' in config\n",
    "\n"
   ]
  },
  {
   "cell_type": "code",
   "execution_count": 7,
   "id": "9ce3d3c0-3a49-4f95-a411-d0b583d807bc",
   "metadata": {},
   "outputs": [
    {
     "name": "stderr",
     "output_type": "stream",
     "text": [
      "C:\\Users\\gfran\\anaconda3\\envs\\trch\\lib\\site-packages\\torchaudio\\backend\\utils.py:62: UserWarning: No audio backend is available.\n",
      "  warnings.warn(\"No audio backend is available.\")\n"
     ]
    },
    {
     "name": "stdout",
     "output_type": "stream",
     "text": [
      "making attention of type 'vanilla' with 512 in_channels\n",
      "Working with z of shape (1, 4, 32, 32) = 4096 dimensions.\n",
      "making attention of type 'vanilla' with 512 in_channels\n"
     ]
    }
   ],
   "source": [
    "model = load_safetensors(ckpt='../../stable-diffusion-models/vae/diffusion_pytorch_model.safetensors')\n",
    "\n",
    "# and then use it as model.encode(get_input(x), return_hidden=True)[1]"
   ]
  }
 ],
 "metadata": {
  "kernelspec": {
   "display_name": "trch",
   "language": "python",
   "name": "trch"
  },
  "language_info": {
   "codemirror_mode": {
    "name": "ipython",
    "version": 3
   },
   "file_extension": ".py",
   "mimetype": "text/x-python",
   "name": "python",
   "nbconvert_exporter": "python",
   "pygments_lexer": "ipython3",
   "version": "3.10.6"
  }
 },
 "nbformat": 4,
 "nbformat_minor": 5
}
